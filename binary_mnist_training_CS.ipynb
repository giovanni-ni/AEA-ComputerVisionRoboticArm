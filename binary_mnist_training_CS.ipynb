{
 "cells": [
  {
   "cell_type": "code",
   "execution_count": null,
   "id": "acabd537",
   "metadata": {},
   "outputs": [],
   "source": [
    "import numpy as np\n",
    "from sklearn.model_selection import train_test_split\n",
    "from sklearn.linear_model import LogisticRegression\n",
    "from sklearn.metrics import accuracy_score, log_loss\n",
    "from sklearn.utils import shuffle\n",
    "import joblib\n",
    "import time \n",
    "\n",
    "n_esecuzioni = 50\n",
    "accuracy = []\n",
    " \n",
    "for _ in range(n_esecuzioni):\n",
    "    # Carichiamo il Dataset\n",
    "    DATASET_PATH = \"C:/Users/Crist/ComputerVision/Dataset/binary_mnist/binary_mnist.csv\"\n",
    "    dataset = np.loadtxt(open(DATASET_PATH, \"rb\"), delimiter=\",\")\n",
    "\n",
    "    # Prepariamo i Dati\n",
    "    X = dataset[:,:-1]\n",
    "    y = dataset[:,-1:]\n",
    "    y = y.ravel()\n",
    "\n",
    "    X , y = shuffle(X, y)\n",
    "    X_train, X_test, y_train, y_test = train_test_split(X,y, test_size=0.4, random_state=0)\n",
    "\n",
    "    X_train= ((X_train / 255.) - .5) * 2\n",
    "    X_test= ((X_test / 255.) - .5) * 2\n",
    "\n",
    "    # Creiamo il Modello\n",
    "    lr = LogisticRegression()\n",
    "    lr.fit(X_train, y_train)\n",
    "    \n",
    "    #valutiamo il modello\n",
    "    y_pred_test = lr.predict(X_test)\n",
    "    accuracy.append(accuracy_score(y_pred_test, y_test))\n",
    "    print(accuracy)\n",
    "    time.sleep(0.1)\n",
    "\n"
   ]
  },
  {
   "cell_type": "code",
   "execution_count": null,
   "id": "8b816024",
   "metadata": {},
   "outputs": [],
   "source": [
    "media = np.mean(accuracy)\n",
    "std = np.std(accuracy)\n",
    "accuracy = np.array(accuracy)\n",
    "mask = accuracy < 0.6\n",
    "\n",
    "print(media, std, mask.sum())\n",
    "\n",
    "\n",
    "# test_size 0.2 --> 0.7520 0.120 2\n",
    "# test_size 0.3 --> 0.7040 0.110 5\n",
    "# test_size 0.4 --> 0.7260 0.083 2"
   ]
  },
  {
   "cell_type": "code",
   "execution_count": null,
   "id": "90010d36",
   "metadata": {},
   "outputs": [],
   "source": [
    "# Valutiamo il Modello\n",
    "y_pred_train = lr.predict(X_train)\n",
    "y_pred_train_proba = lr.predict_proba(X_train)\n",
    "y_pred_test = lr.predict(X_test)\n",
    "y_pred_test_proba = lr.predict_proba(X_test)"
   ]
  }
 ],
 "metadata": {
  "kernelspec": {
   "display_name": "Python 3",
   "language": "python",
   "name": "python3"
  },
  "language_info": {
   "codemirror_mode": {
    "name": "ipython",
    "version": 3
   },
   "file_extension": ".py",
   "mimetype": "text/x-python",
   "name": "python",
   "nbconvert_exporter": "python",
   "pygments_lexer": "ipython3",
   "version": "3.8.8"
  }
 },
 "nbformat": 4,
 "nbformat_minor": 5
}
