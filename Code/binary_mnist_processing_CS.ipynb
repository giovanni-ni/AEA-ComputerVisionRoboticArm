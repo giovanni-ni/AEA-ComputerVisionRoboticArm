{
 "cells": [
  {
   "cell_type": "code",
   "execution_count": 10,
   "id": "16349eb3",
   "metadata": {},
   "outputs": [
    {
     "name": "stdout",
     "output_type": "stream",
     "text": [
      "Lettura di tutte le immagini da C:/Users/Crist/ComputerVision/Dataset/binary_mnist/binary_mnist/\n",
      "Scrittura sul file binary_mnist.csv\n",
      "Immagini scritte: {'0': 24, '1': 25, 'total': 49}\n"
     ]
    }
   ],
   "source": [
    "import cv2\n",
    "import os\n",
    "\n",
    "DATASET_DIR = \"C:/Users/Crist/ComputerVision/Dataset/binary_mnist/\"\n",
    "IMAGES_DIR = DATASET_DIR + \"binary_mnist/\"\n",
    "DATASET_FILENAME = \"binary_mnist.csv\"\n",
    "\n",
    "data_file = open(DATASET_DIR+DATASET_FILENAME,\"w\")\n",
    "\n",
    "print(\"Lettura di tutte le immagini da %s\" % IMAGES_DIR)\n",
    "print(\"Scrittura sul file %s\" % DATASET_FILENAME)\n",
    "\n",
    "# Dizionario di 3 chiavi inizializzate a 0 per contare le due classi di immagini lette e quelle totali\n",
    "counter = {\"0\":0, \"1\":0, \"total\":0}\n",
    "\n",
    "# Leggo prima tutti gli 0 poi gli 1\n",
    "for i in range(2): \n",
    "    current_dir = IMAGES_DIR+str(i)\n",
    "    \n",
    "    # f scorre tutti i file in images/str(i), quindi scorre sui file .jpg\n",
    "    for f in os.listdir(current_dir):\n",
    "        \n",
    "        # Tutto ciò che non è un immagine viene ignorato \n",
    "        if(not \".jpg\" in f):   \n",
    "            continue\n",
    "            \n",
    "        # Il metodo imread legge un'immagine da file e la converte in ndarray\n",
    "        img = cv2.imread(current_dir+\"/\"+f, cv2.IMREAD_GRAYSCALE) \n",
    "        \n",
    "        # Tramite il metodo di numpy flatten rendo la matrice img 28*28 un'array unidimensionale\n",
    "        small_img = cv2.resize(img, (28, 28))\n",
    "        arr = small_img.flatten() \n",
    "        \n",
    "        # astype converte arr in un'array di stringhe, il  metodo .join converte l'array di stringhe in un'unica stringa, \n",
    "        # separando gli elementi con la virgola\n",
    "        data_file.write(\",\".join(arr.astype(str)))\n",
    "        \n",
    "        # A seguito dei pixel, a fine di ogni immagine inserisco la corrispondente etichetta\n",
    "        data_file.write(\",\"+str(i))\n",
    "        data_file.write(\"\\n\")\n",
    "\n",
    "        counter[str(i)]+=1\n",
    "        counter[\"total\"]+=1\n",
    "\n",
    "data_file.close()\n",
    "\n",
    "print(\"Immagini scritte: %s\" % counter)"
   ]
  },
  {
   "cell_type": "code",
   "execution_count": null,
   "id": "86826255",
   "metadata": {},
   "outputs": [],
   "source": []
  }
 ],
 "metadata": {
  "kernelspec": {
   "display_name": "Python 3",
   "language": "python",
   "name": "python3"
  },
  "language_info": {
   "codemirror_mode": {
    "name": "ipython",
    "version": 3
   },
   "file_extension": ".py",
   "mimetype": "text/x-python",
   "name": "python",
   "nbconvert_exporter": "python",
   "pygments_lexer": "ipython3",
   "version": "3.8.8"
  }
 },
 "nbformat": 4,
 "nbformat_minor": 5
}
