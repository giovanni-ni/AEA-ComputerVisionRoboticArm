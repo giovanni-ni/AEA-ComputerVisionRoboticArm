{
 "cells": [
  {
   "cell_type": "code",
   "execution_count": 3,
   "id": "93298679",
   "metadata": {},
   "outputs": [
    {
     "name": "stdout",
     "output_type": "stream",
     "text": [
      "accuratezza sul dataset di training:  1.0\n",
      "accuratezza sul dataset di test:  0.5\n"
     ]
    },
    {
     "name": "stderr",
     "output_type": "stream",
     "text": [
      "<ipython-input-3-56fe1021d895>:57: RuntimeWarning: divide by zero encountered in log\n",
      "  cost = (-y.dot(np.log(output)) - ((1 - y).dot(np.log(1 - output))))\n"
     ]
    },
    {
     "data": {
      "image/png": "[encoded data removed]",
      "text/plain": [
       "<Figure size 432x288 with 1 Axes>"
      ]
     },
     "metadata": {
      "needs_background": "light"
     },
     "output_type": "display_data"
    }
   ],
   "source": [
    "# da utilizzare dopo aver eseguito binary_mnist_preprocessing.py\n",
    "import numpy  as np\n",
    "import matplotlib.pyplot as plt\n",
    "from sklearn.metrics import accuracy_score\n",
    "from sklearn.model_selection import train_test_split\n",
    "from sklearn.utils import shuffle\n",
    "\n",
    "class LogisticRegression:\n",
    "    \"\"\" Classificatore regressione logistica con discesa del gradiente \n",
    "    \n",
    "    Parametri\n",
    "    ----------\n",
    "    eta: float\n",
    "        tasso d'apprendimento (tra 0.0 e 0.1)\n",
    "    n_iter: int\n",
    "        numero di epoche, ovvero passi sul dataset di training \n",
    "    randome_state: int\n",
    "        seed per la generazione dei numeri casuali nell'inizializzazione dei pesi\n",
    "    \n",
    "    Attributi\n",
    "    ----------\n",
    "    w_: 1d-array\n",
    "        array dei pesi dopo l'addestramento \n",
    "    cost_: list\n",
    "        funzione di costo logistica (log-lkelihood) ad ogni epoca\n",
    "    \"\"\"\n",
    "    \n",
    "    def __init__(self, eta, n_iter, random_state):\n",
    "        self.eta = eta\n",
    "        self.n_iter = n_iter\n",
    "        self.random_state = random_state\n",
    "    def fit(self, X, y):\n",
    "            \"\"\" Metodo fit per l'addestramento:\n",
    "    \n",
    "            Parametri\n",
    "            ----------\n",
    "            X: matrice degli esempi, shape = [n_esempi, n_caratteristiche]\n",
    "                \n",
    "            y: array etichette, shape = [n_esempi]\n",
    "            \n",
    "                \n",
    "            Returns\n",
    "            -------\n",
    "            self : oggetto\n",
    "            \n",
    "            \"\"\"\n",
    "            rgen = np.random.RandomState(self.random_state)\n",
    "            self.w_ = rgen.normal(loc = 0.0, scale = 0.01, size = 1 + X.shape[1])\n",
    "            self.cost_ = []\n",
    "            \n",
    "            for i in range(self.n_iter):\n",
    "                net_input = self.net_input(X)\n",
    "                output = self.activation(net_input)\n",
    "                errors = y - output\n",
    "                self.w_[1:] +=self.eta * X.T.dot(errors)\n",
    "                self.w_[0] += self.eta * errors.sum()\n",
    "                cost = (-y.dot(np.log(output)) - ((1 - y).dot(np.log(1 - output))))\n",
    "                self.cost_.append(cost)\n",
    "            return self\n",
    "        \n",
    "    def net_input(self, X): \n",
    "        \"\"\"Calcola l'input della rete\"\"\"\n",
    "        return np.dot(X, self.w_[1:]) + self.w_[0]\n",
    "        \n",
    "    def activation(self, z):\n",
    "        \"\"\"Calcola la sigmoide, funzione di attivazione della regressione logistica\"\"\"\n",
    "        return 1. / (1. + np.exp(-np.clip(z, -250, 250)))\n",
    "        \n",
    "    def predict(self, X):\n",
    "        \"\"\"Funzione di soglia per fare la predizione\"\"\"\n",
    "        return np.where(self.net_input(X) >= 0.0, 1, 0)\n",
    "            \n",
    "# Carichiamo il Dataset\n",
    "DATASET_PATH = \"C:/Users/Crist//ComputerVision/Dataset/binary_mnist/binary_mnist.csv\"\n",
    "dataset = np.loadtxt(open(DATASET_PATH, \"rb\"), delimiter=\",\")\n",
    "\n",
    "# Prepariamo i Dati\n",
    "X = dataset[:,:-1]\n",
    "y = dataset[:,-1:]\n",
    "y = y.ravel()\n",
    "\n",
    "X , y = shuffle(X, y)\n",
    "X_train, X_test, y_train, y_test = train_test_split(X,y, test_size=0.2, random_state=0)\n",
    "\n",
    "X_train= ((X_train / 255.) - .5) * 2\n",
    "X_test= ((X_test / 255.) - .5) * 2\n",
    "\n",
    "# Creiamo il nostro modello come oggetto della classe LogisticRegression e lo alleniamo tramite il metodo fit\n",
    "lr =  LogisticRegression(eta = 0.05, n_iter = 10, random_state = 1);\n",
    "lr.fit(X_train, y_train)\n",
    "\n",
    "# Valutiamo il Modello\n",
    "y_pred_train = lr.predict(X_train)\n",
    "y_pred_test = lr.predict(X_test)\n",
    "\n",
    "print(\"accuratezza sul dataset di training: \", accuracy_score(y_train, y_pred_train))\n",
    "print(\"accuratezza sul dataset di test: \", accuracy_score(y_test, y_pred_test))\n",
    "\n",
    "# Analizziamo graficamente come varia la funzione di costo ad ogni epoca\n",
    "plt.plot(range(1, len(lr.cost_) + 1), lr.cost_, marker = 'o')\n",
    "plt.xlabel('Epochs')\n",
    "plt.ylabel('Cost')\n",
    "plt.tight_layout()\n",
    "plt.show()\n"
   ]
  },
  {
   "cell_type": "code",
   "execution_count": null,
   "id": "c940efe3",
   "metadata": {},
   "outputs": [],
   "source": []
  }
 ],
 "metadata": {
  "kernelspec": {
   "display_name": "Python 3",
   "language": "python",
   "name": "python3"
  },
  "language_info": {
   "codemirror_mode": {
    "name": "ipython",
    "version": 3
   },
   "file_extension": ".py",
   "mimetype": "text/x-python",
   "name": "python",
   "nbconvert_exporter": "python",
   "pygments_lexer": "ipython3",
   "version": "3.8.8"
  }
 },
 "nbformat": 4,
 "nbformat_minor": 5
}
