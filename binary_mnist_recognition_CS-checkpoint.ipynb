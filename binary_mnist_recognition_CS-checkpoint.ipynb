{
 "cells": [
  {
   "cell_type": "code",
   "execution_count": 9,
   "id": "428286bb",
   "metadata": {
    "scrolled": false
   },
   "outputs": [
    {
     "name": "stdout",
     "output_type": "stream",
     "text": [
      "inserire:\n",
      "0 --> lettura immagine da disco fisso\n",
      "1 --> lettura immagine da fotocamera\n",
      "1\n",
      "Model prediction: 0 ([0.75855272 0.24144728])\n"
     ]
    }
   ],
   "source": [
    "import cv2\n",
    "import joblib\n",
    "\n",
    "# Percorsi lettura/scrittura immagini da/su disco fisso \n",
    "img_path_r = \"C:/User/Crist/ComputerVision/Dataset/binary_mnist/binary_mnist/1/42.jpg\"\n",
    "img_path_w = \"C:/Users/Crist/ComputerVision/Dataset/binary_mnist/binary_mnist/0/immagine.jpg\"\n",
    "\n",
    "\n",
    "# Importiamo il Modello\n",
    "lr = joblib.load(\"binary_mnist_model.pkl\")\n",
    "\n",
    "# Carichiamo l'immagine\n",
    "if int(input(\"inserire:\\n0 --> lettura immagine da disco fisso\\n1 --> lettura immagine da fotocamera\\n\")) == 0:\n",
    "    img_path = img_path_r\n",
    "else:\n",
    "    # Creiamo un oggetto dalla classe VideoCapture per acquisire dalla fotocamera, lo 0 seleziona la fotocamera predefinita\n",
    "    cap = cv2.VideoCapture(1, cv2.CAP_DSHOW)\n",
    "    \n",
    "    # Cap.isOpened controlla che cap abbia inizializzato corretamente la cattura della fotocamera\n",
    "    #for i in range (30,50):\n",
    "    while (cap.isOpened()):\n",
    "        # catturo frame-by-frame\n",
    "        ret, frame = cap.read()\n",
    "            \n",
    "        if ret == True:\n",
    "            # Visualizza il frame in una finestra\n",
    "            cv2.imshow(\"Fotocamera\", frame) \n",
    "            # Salviamo il frame come immagine su disco fisso \n",
    "            #small_frame = cv2.resize(frame, (28, 28))\n",
    "            cv2.imwrite(img_path_w, frame)\n",
    "            \n",
    "        else:\n",
    "            print(\"Impossibile leggere un frame dalla fotocamera\")\n",
    "            \n",
    "        if cv2.waitKey(1) & 0xFF == ord('q'):\n",
    "            break\n",
    "            \n",
    "    # Rilascia la fotocamera\n",
    "    cap.release()\n",
    "    cv2.destroyAllWindows()\n",
    "    \n",
    "    # dopo aver acquisito correttamente il frame dell'immagine da fotocamera, la salviamo su disco fisso\n",
    "    img_path = img_path_w\n",
    "    \n",
    "    \n",
    "    \n",
    "# Caricamento immagine su ndarray    \n",
    "\n",
    "img = cv2.imread(img_path, cv2.IMREAD_GRAYSCALE)\n",
    "\n",
    "# Processiamo l'immagine\n",
    "small_img = cv2.resize(img, (28, 28))\n",
    "x = img.flatten().astype(float)\n",
    "x/=255\n",
    "\n",
    "# Riconoscimento dell'immagine\n",
    "x = x.reshape(1,x.shape[0])\n",
    "y = lr.predict(x)             # classe predetta\n",
    "proba = lr.predict_proba(x)   # probabilità di appartenenza alle due classi\n",
    "\n",
    "\n",
    "print(\"Model prediction: %d (%s)\" % (y[0],proba[0]))\n",
    "\n"
   ]
  },
  {
   "cell_type": "code",
   "execution_count": null,
   "id": "6c2740e5",
   "metadata": {},
   "outputs": [],
   "source": []
  },
  {
   "cell_type": "code",
   "execution_count": null,
   "id": "62e514d4",
   "metadata": {},
   "outputs": [],
   "source": []
  }
 ],
 "metadata": {
  "kernelspec": {
   "display_name": "Python 3",
   "language": "python",
   "name": "python3"
  },
  "language_info": {
   "codemirror_mode": {
    "name": "ipython",
    "version": 3
   },
   "file_extension": ".py",
   "mimetype": "text/x-python",
   "name": "python",
   "nbconvert_exporter": "python",
   "pygments_lexer": "ipython3",
   "version": "3.8.8"
  }
 },
 "nbformat": 4,
 "nbformat_minor": 5
}
