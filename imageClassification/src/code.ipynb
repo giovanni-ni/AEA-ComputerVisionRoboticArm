{
 "cells": [
  {
   "cell_type": "code",
   "execution_count": 16,
   "metadata": {},
   "outputs": [],
   "source": [
    "import mnist_loader\n",
    "import network\n",
    "import cv2 as cv\n",
    "import matplotlib.pyplot as plt\n",
    "import numpy as np"
   ]
  },
  {
   "cell_type": "code",
   "execution_count": 28,
   "metadata": {},
   "outputs": [],
   "source": [
    "training_data, validation_data, test_data = mnist_loader.load_data_wrapper()\n",
    "training_data = list(training_data)"
   ]
  },
  {
   "cell_type": "code",
   "execution_count": 20,
   "metadata": {},
   "outputs": [
    {
     "name": "stdout",
     "output_type": "stream",
     "text": [
      "Epoch 0 : 7953 / 10000\n",
      "Epoch 1 : 9217 / 10000\n",
      "Epoch 2 : 9262 / 10000\n",
      "Epoch 3 : 9368 / 10000\n",
      "Epoch 4 : 9388 / 10000\n",
      "Epoch 5 : 9426 / 10000\n",
      "Epoch 6 : 9421 / 10000\n",
      "Epoch 7 : 9421 / 10000\n",
      "Epoch 8 : 9456 / 10000\n",
      "Epoch 9 : 9403 / 10000\n",
      "Epoch 10 : 9459 / 10000\n",
      "Epoch 11 : 9456 / 10000\n",
      "Epoch 12 : 9465 / 10000\n",
      "Epoch 13 : 9452 / 10000\n",
      "Epoch 14 : 9483 / 10000\n",
      "Epoch 15 : 9466 / 10000\n",
      "Epoch 16 : 9491 / 10000\n",
      "Epoch 17 : 9466 / 10000\n",
      "Epoch 18 : 9487 / 10000\n",
      "Epoch 19 : 9482 / 10000\n",
      "Epoch 20 : 9496 / 10000\n",
      "Epoch 21 : 9492 / 10000\n",
      "Epoch 22 : 9469 / 10000\n",
      "Epoch 23 : 9516 / 10000\n",
      "Epoch 24 : 9480 / 10000\n",
      "Epoch 25 : 9484 / 10000\n",
      "Epoch 26 : 9506 / 10000\n",
      "Epoch 27 : 9484 / 10000\n",
      "Epoch 28 : 9514 / 10000\n",
      "Epoch 29 : 9475 / 10000\n"
     ]
    }
   ],
   "source": [
    "net = network.Network([784, 30, 10])\n",
    "net.SGD(training_data, 30, 10, 3.0, test_data=test_data)"
   ]
  },
  {
   "cell_type": "code",
   "execution_count": 27,
   "metadata": {},
   "outputs": [],
   "source": [
    "path = \"./saves/\"\n",
    "b = net.biases\n",
    "w = net.weights\n",
    "\n",
    "f = open(path + 'biases.txt', 'w')\n",
    "for i in range(len(b)):\n",
    "    f.write(str(b[i]) + '\\n')\n",
    "f.close()\n",
    "f = open(path + 'weights.txt', 'w')\n",
    "for i in range(len(w)):\n",
    "    f.write(str(w[i]) + '\\n')\n",
    "f.close()"
   ]
  },
  {
   "cell_type": "code",
   "execution_count": null,
   "metadata": {},
   "outputs": [],
   "source": []
  },
  {
   "cell_type": "code",
   "execution_count": 15,
   "metadata": {},
   "outputs": [
    {
     "name": "stdout",
     "output_type": "stream",
     "text": [
      "opening:  ../realImg/1.jpg\n"
     ]
    },
    {
     "data": {
      "image/png": "[encoded data removed]",
      "text/plain": [
       "<Figure size 640x480 with 1 Axes>"
      ]
     },
     "metadata": {},
     "output_type": "display_data"
    }
   ],
   "source": [
    "path = \"../realImg/\"\n",
    "img = path + '1.jpg'\n",
    "print(\"opening: \", img)\n",
    "\n",
    "img = cv.imread(img, cv.IMREAD_GRAYSCALE)\n",
    "img = cv.resize(img, (28, 28))\n",
    "\n",
    "#plt.imshow(img, cmap='gray')\n",
    "#plt.show()\n",
    "\n",
    "for i in range(28):\n",
    "    for j in range(28):\n",
    "        img[i][j] = 255 - img[i][j]\n",
    "\n",
    "\n",
    "plt.imshow(img, cmap='gray')\n",
    "plt.show()\n"
   ]
  },
  {
   "cell_type": "code",
   "execution_count": 22,
   "metadata": {},
   "outputs": [
    {
     "name": "stdout",
     "output_type": "stream",
     "text": [
      "(784, 1)\n"
     ]
    }
   ],
   "source": [
    "arr = np.array(img)\n",
    "arr.resize(784, 1)\n",
    "print(arr.shape)"
   ]
  },
  {
   "cell_type": "code",
   "execution_count": 23,
   "metadata": {},
   "outputs": [
    {
     "ename": "NameError",
     "evalue": "name 'net' is not defined",
     "output_type": "error",
     "traceback": [
      "\u001b[0;31m---------------------------------------------------------------------------\u001b[0m",
      "\u001b[0;31mNameError\u001b[0m                                 Traceback (most recent call last)",
      "Cell \u001b[0;32mIn [23], line 1\u001b[0m\n\u001b[0;32m----> 1\u001b[0m \u001b[43mnet\u001b[49m\u001b[38;5;241m.\u001b[39mfeedforward(arr)\n",
      "\u001b[0;31mNameError\u001b[0m: name 'net' is not defined"
     ]
    }
   ],
   "source": [
    "r = net.feedforward(arr)"
   ]
  }
 ],
 "metadata": {
  "kernelspec": {
   "display_name": "Python 3",
   "language": "python",
   "name": "python3"
  },
  "language_info": {
   "codemirror_mode": {
    "name": "ipython",
    "version": 3
   },
   "file_extension": ".py",
   "mimetype": "text/x-python",
   "name": "python",
   "nbconvert_exporter": "python",
   "pygments_lexer": "ipython3",
   "version": "3.11.2"
  }
 },
 "nbformat": 4,
 "nbformat_minor": 2
}
